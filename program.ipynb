{
 "cells": [
  {
   "cell_type": "markdown",
   "metadata": {},
   "source": [
    "# CS342 Machine Learning Coursework:\n",
    "\n",
    "# Multi-Class  Classification  with  Kernel-based  Latent  Factor  Models  and  Perceptrons\n",
    "\n"
   ]
  },
  {
   "cell_type": "markdown",
   "metadata": {},
   "source": [
    "# I.A Dataset\n",
    "\n",
    "Code to upload Iris.data dataset from /data directory to Python NumPy arrays:"
   ]
  },
  {
   "cell_type": "code",
   "execution_count": 1,
   "metadata": {},
   "outputs": [],
   "source": [
    "import numpy as np\n",
    "import pandas as pd\n",
    "\n",
    "# Data is being uploaded from the iris.data file in the /data directory that exist\n",
    "# in the same directory as coursework.ipynb file\n",
    "\n",
    "# location of data can be changed changing the string below\n",
    "location = \"data/iris.data\"\n",
    "\n",
    "iris_x = np.loadtxt(location, delimiter=\",\", usecols=[0,1,2,3])\n",
    "\n",
    "# Names first uploaded to Pandas DataFrame, then to NumPy arrays after changing\n",
    "# labels to 0, 1 and 2\n",
    "iris_names = pd.read_csv(location, usecols=[4], header=None)\n",
    "names_dic = {'Iris-setosa': 0, 'Iris-versicolor': 1, 'Iris-virginica': 2}\n",
    "iris_names[4] = iris_names[4].apply(lambda x: names_dic[x])\n",
    "\n",
    "iris_y = iris_names.to_numpy()\n"
   ]
  },
  {
   "cell_type": "markdown",
   "metadata": {},
   "source": [
    "# II.A Data visualisation\n",
    "\n"
   ]
  },
  {
   "cell_type": "code",
   "execution_count": 2,
   "metadata": {},
   "outputs": [
    {
     "data": {
      "image/png": "[encoded data removed]",
      "text/plain": [
       "<Figure size 576x576 with 1 Axes>"
      ]
     },
     "metadata": {
      "needs_background": "light"
     },
     "output_type": "display_data"
    }
   ],
   "source": [
    "import matplotlib.pyplot as plt\n",
    "\n",
    "# centering data for PCA\n",
    "centered_x = iris_x - iris_x.mean(axis=0)\n",
    "\n",
    "# singular value decomposition to get PCs \n",
    "U, S, V = np.linalg.svd(centered_x, full_matrices=True)\n",
    "\n",
    "top2pcs = V[:2]\n",
    "\n",
    "# projecting the data onto the top two principal components.\n",
    "iris2D = centered_x.dot(np.transpose(top2pcs))\n",
    "\n",
    "col_dict = {0: 'yellow', 1: 'red', 2: 'blue'}\n",
    "labels_dict = {0: 'Iris-setosa',1: 'Iris-versicolor', 2:'Iris-virginica'}\n",
    "\n",
    "\n",
    "# matplotlib to visualize Iris Dataset in 2 dimensions\n",
    "fig, ax = plt.subplots()\n",
    "fig.set_figheight(8)\n",
    "fig.set_figwidth(8)\n",
    "for iris in np.unique(iris_y):\n",
    "    ix = np.where(iris_y == iris)[0]\n",
    "    ax.scatter(iris2D.T[0][ix], iris2D.T[1][ix], c=col_dict[iris], label = labels_dict[iris], s=20)\n",
    "ax.legend()\n",
    "\n",
    "plt.xlabel('Principal Component 1')\n",
    "plt.ylabel('Principal Component 2')\n",
    "plt.show()"
   ]
  },
  {
   "cell_type": "markdown",
   "metadata": {},
   "source": [
    "As can be seen from the visual representation of Iris Dataset in 2 dimensions, Iris-setosa class can be linearly separated from Iris-versicolor and Iris-virginica classes. However, Iris-versicolor and Iris-virginica are not linearly separable."
   ]
  },
  {
   "cell_type": "markdown",
   "metadata": {},
   "source": [
    "# II.B Multi-class classification using a perceptron"
   ]
  },
  {
   "cell_type": "code",
   "execution_count": 3,
   "metadata": {},
   "outputs": [
    {
     "name": "stdout",
     "output_type": "stream",
     "text": [
      "\n",
      "Average accurracy of multi-class perceptrons within 20 iterations:\n",
      "perceptron for 2 PCs accuracy is: 95.5\n",
      "perceptron for Original Data accuracy is: 97.66666666666666\n",
      "perceptron for 4 PCs accuracy is: 97.7\n"
     ]
    }
   ],
   "source": [
    "from sklearn.utils import shuffle\n",
    "import time\n",
    "\n",
    "def perceptron(data_x, data_y, w):\n",
    "    array = np.zeros((w.shape[0],1))\n",
    "    data_x, data_y = shuffle(data_x, data_y)\n",
    "    \n",
    "    for i in range(0,50):\n",
    "        for n in range(len(data_x)):\n",
    "            for x in range(len(array)):\n",
    "                array[x] = data_x[n].dot(w[x].T)\n",
    "            \n",
    "            index = np.argmax(array)\n",
    "            if index != data_y[n]:\n",
    "                for w_i in range(len(w)):\n",
    "                    if w_i == data_y[n]:\n",
    "                        w[w_i] += data_x[n]\n",
    "                    else:\n",
    "                        w[w_i] -= data_x[n]\n",
    "            \n",
    "        data_x, data_y = shuffle(data_x, data_y)\n",
    "    return w\n",
    "\n",
    "\n",
    "def accuracy(w, data_x, data_y):\n",
    "    correct = 0\n",
    "    array = np.zeros((w.shape[0],1))\n",
    "    \n",
    "    for i in range(len(data_x)):\n",
    "        \n",
    "        for x in range(len(array)):\n",
    "                array[x] = data_x[i].dot(w[x].T)\n",
    "                \n",
    "        value = np.argmax(array)\n",
    "        if value == data_y[i]:\n",
    "            correct += 1\n",
    "    \n",
    "    return (correct/data_x.shape[0])*100\n",
    "\n",
    "\n",
    "# bias column of ones to be added to train datasets\n",
    "bias = np.ones((iris2D.shape[0],1))\n",
    "\n",
    "# PERCEPTRON FOR DATA PROJECTED ONTO 2 TOP PCs\n",
    "# Adding bias column of 1s to train dataset\n",
    "train2PC = np.hstack((iris2D, bias))\n",
    "# Initial class vectors\n",
    "w2PC=np.full((3,3),0.0)\n",
    "\n",
    "\n",
    "# PERCEPTRON FOR ORIGINAL DATA\n",
    "\n",
    "trainOG = np.hstack((centered_x, bias))\n",
    "wOG = np.full((3,5), 0.0)\n",
    "\n",
    "\n",
    "\n",
    "# PERCEPTRON FOR DATA PROJECTED ONTO ALL 4 PCs\n",
    "\n",
    "# projecting the data onto the top 4 principal components.\n",
    "data4PC = centered_x.dot(np.transpose(V))\n",
    "train4PC = np.hstack((data4PC, bias))\n",
    "w4PC = np.full((3,5), 0.0)\n",
    "\n",
    "\n",
    "avg2PC = 0\n",
    "avgOG = 0\n",
    "avg4PC = 0\n",
    "for i in range(0,20):\n",
    "    W2PC = perceptron(train2PC, iris_y, w2PC)\n",
    "    WOG = perceptron(trainOG, iris_y, wOG)\n",
    "    W4PC = perceptron(train4PC, iris_y, w4PC)\n",
    "    avg2PC += accuracy(W2PC, train2PC, iris_y)\n",
    "    avgOG += accuracy(WOG, trainOG, iris_y)\n",
    "    avg4PC += accuracy(W4PC, train4PC, iris_y)\n",
    "\n",
    "print(\"\\nAverage accurracy of multi-class perceptrons within 20 iterations:\")\n",
    "print(\"perceptron for 2 PCs accuracy is:\", str(avg2PC/20))\n",
    "print(\"perceptron for Original Data accuracy is:\", str(avgOG/20))\n",
    "print(\"perceptron for 4 PCs accuracy is:\", str(avg4PC/20))\n"
   ]
  },
  {
   "cell_type": "markdown",
   "metadata": {},
   "source": [
    "# II.C Projection onto a high-dimensional subspace"
   ]
  },
  {
   "cell_type": "code",
   "execution_count": 4,
   "metadata": {},
   "outputs": [
    {
     "name": "stdout",
     "output_type": "stream",
     "text": [
      "Perfect Multi-Class perceptron with least PCs - 53 PCs and gamma with value 3.16\n"
     ]
    },
    {
     "data": {
      "image/png": "[encoded data removed]",
      "text/plain": [
       "<Figure size 576x864 with 2 Axes>"
      ]
     },
     "metadata": {
      "needs_background": "light"
     },
     "output_type": "display_data"
    }
   ],
   "source": [
    "import math\n",
    "import seaborn as sb\n",
    "\n",
    "# method that returns number of errors made by the multi-class perceptron\n",
    "def get_errors(w, data_x, data_y):\n",
    "    errors = 0\n",
    "    array = np.zeros((w.shape[0],1))\n",
    "    \n",
    "    for i in range(len(data_x)):\n",
    "        \n",
    "        for x in range(len(array)):\n",
    "                array[x] = data_x[i].dot(w[x].T)\n",
    "                \n",
    "        value = np.argmax(array)\n",
    "        if value != data_y[i]:\n",
    "            errors += 1\n",
    "    return errors\n",
    "\n",
    "# centered data, gamma as arguments. method to calculate Ktild\n",
    "def k_tild(centered_x, gamma):\n",
    "    K = np.zeros((centered_x.shape[0],centered_x.shape[0]))\n",
    "    for i in range(len(K)):\n",
    "        for j in range(len(K)):\n",
    "            K[i][j] = math.exp(-1*gamma*(np.sum(np.square(centered_x[i] - centered_x[j]))))\n",
    "\n",
    "    A = np.full((K.shape),1/K.shape[0])\n",
    "    Ktild = K - A.dot(K) - K.dot(A) + (A.dot(K)).dot(A)\n",
    "    return Ktild\n",
    "\n",
    "# returns a range of PCs for search grid visualization\n",
    "def pc_range(pc):\n",
    "    if pc - 4 < 5:\n",
    "        startPC = 5\n",
    "        endPC = 14\n",
    "    elif pc + 5 > 150:\n",
    "        endPC = 150\n",
    "        startPC = 141\n",
    "    else:\n",
    "        startPC = pc - 4\n",
    "        endPC = pc + 5\n",
    "    return (startPC, endPC)\n",
    "\n",
    "# returns a range of gammas for search grid visualization\n",
    "def gamma_range(gamma, minGamma, maxGamma):\n",
    "    if gamma - 0.4 < minGamma:\n",
    "        startGm = minGamma\n",
    "        endGm = minGamma + 0.9\n",
    "    elif gamma + 0.5 > maxGamma:\n",
    "        endGm = maxGamma\n",
    "        startGm = maxGamma - 0.9\n",
    "    else:\n",
    "        startGm = gamma - 0.4\n",
    "        endGm = gamma + 0.5\n",
    "    return (startGm, endGm)\n",
    "\n",
    "\n",
    "\n",
    "variances = np.zeros((4,1))\n",
    "\n",
    "for i in range(0,centered_x.shape[1]):\n",
    "    variances[i] = np.var(centered_x[:,i])\n",
    "\n",
    "minVar = variances[np.argmin(variances)]\n",
    "maxVar = variances[np.argmax(variances)]\n",
    "eps = 0.05\n",
    "\n",
    "minGamma = 1/(2*(maxVar+eps))\n",
    "maxGamma = 1/(2*(minVar-eps))\n",
    "\n",
    "gammas = np.arange(minGamma, maxGamma, 0.1)\n",
    "perfPC = 0\n",
    "perfGm = 0\n",
    "perfectFound = False\n",
    "\n",
    "# Finding the perfect mutli-class perceptron\n",
    "print(\"Performing grid search to determine PCs and gamma values...\")\n",
    "for k in range(centered_x.shape[1]+1,centered_x.shape[0]):\n",
    "    for x in gammas:\n",
    "        Ktild = k_tild(centered_x, x)\n",
    "        \n",
    "        Uk, Sk, Vk = np.linalg.svd(Ktild, full_matrices=True)\n",
    "\n",
    "        high_d = Ktild.dot(np.transpose(Vk[:k]))\n",
    "        data = np.hstack((high_d, bias))\n",
    "        w = np.full((3,k+1), 0.0)\n",
    "        W = perceptron(data, iris_y, w)\n",
    "        if accuracy(W, data, iris_y) == 100:\n",
    "            perfPC = k\n",
    "            perfGm = x\n",
    "            perfectFound = True\n",
    "            break\n",
    "    if perfectFound:\n",
    "        break\n",
    "\n",
    "# Hyper parameters selected - perfPC and perfGm for the perfect perceptron\n",
    "print(\"Hyperparameters selected, displaying search grid...\")\n",
    "\n",
    "# Range of PCs and gammas values for search grid visualization\n",
    "startPC, endPC = pc_range(perfPC)\n",
    "startGm, endGm = gamma_range(perfGm, minGamma, maxGamma)\n",
    "    \n",
    "\n",
    "gammas = np.linspace(startGm, endGm, 10)\n",
    "pcs = np.linspace(startPC, endPC, 10)\n",
    "\n",
    "Aerr = np.zeros((10,10))\n",
    "Ax = 0\n",
    "Ay = 0\n",
    "\n",
    "# Creating an Aerr matrix storing no. of errors of\n",
    "# several multi-class perceptrons.\n",
    "for x in gammas:\n",
    "    Ktild = k_tild(centered_x, x)\n",
    "    Uk, Sk, Vk = np.linalg.svd(Ktild, full_matrices=True)\n",
    "    Ay = 0\n",
    "    for k in range(startPC, endPC+1):\n",
    "        if round(x[0],2) == round(perfGm,2) and k == perfPC:\n",
    "            Aerr[Ax][Ay] = 0\n",
    "            Ay += 1\n",
    "        else:\n",
    "            high_d = Ktild.dot(np.transpose(Vk[:k]))\n",
    "            data = np.hstack((high_d, bias))\n",
    "            w = np.full((3,k+1), 0.0)\n",
    "            W = perceptron(data, iris_y, w)\n",
    "            Aerr[Ax][Ay] = get_errors(W,data,iris_y)\n",
    "            Ay += 1\n",
    "    Ax += 1\n",
    "\n",
    "# Displaying the search grid using matplotlib and seaborn.\n",
    "print(\"Perfect Multi-Class perceptron with least PCs -\",perfPC,\"PCs and gamma with value\",round(perfGm,2))\n",
    "Aerr = Aerr.T.T.T\n",
    "fig, ax = plt.subplots(figsize=(8,12))\n",
    "pcs = pcs.astype(int)\n",
    "gammas = np.round(gammas,2).reshape(1,10)\n",
    "gammas = gammas[0]\n",
    "\n",
    "cmap = sb.color_palette(\"YlOrRd\", as_cmap=True)\n",
    "heat_map = sb.heatmap(Aerr, xticklabels=gammas, yticklabels=pcs, cmap=cmap, ax=ax, cbar_kws={'label': 'No. of errors'})\n",
    "plt.xlabel(\"gamma\")\n",
    "plt.ylabel(\"No. of top PCs\")\n",
    "plt.show()"
   ]
  },
  {
   "cell_type": "code",
   "execution_count": null,
   "metadata": {},
   "outputs": [],
   "source": []
  }
 ],
 "metadata": {
  "kernelspec": {
   "display_name": "Python 3",
   "language": "python",
   "name": "python3"
  },
  "language_info": {
   "codemirror_mode": {
    "name": "ipython",
    "version": 3
   },
   "file_extension": ".py",
   "mimetype": "text/x-python",
   "name": "python",
   "nbconvert_exporter": "python",
   "pygments_lexer": "ipython3",
   "version": "3.9.2"
  }
 },
 "nbformat": 4,
 "nbformat_minor": 4
}
